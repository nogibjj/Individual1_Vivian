{
 "cells": [
  {
   "cell_type": "markdown",
   "id": "monetary-confusion",
   "metadata": {},
   "source": [
    "# Individual Project 1\n",
    "\n",
    "Xiyue Zhang (xz393)"
   ]
  },
  {
   "cell_type": "code",
   "execution_count": null,
   "id": "threatened-tuesday",
   "metadata": {},
   "outputs": [],
   "source": [
    "import matplotlib.pyplot as plt\n",
    "import polars as pl\n",
    "import pandas as pd\n",
    "from lib import get_median, get_mean, get_sd, plot\n",
    "\n",
    "def f(csv):\n",
    "    #dataset:\"california_housing_train.csv\"\n",
    "    df = pl.read_csv(csv)\n",
    "\n",
    "    print(df.shape)\n",
    "    print(len(df))\n",
    "    print(df.describe())\n",
    "\n",
    "    # Bottom 3 house price\n",
    "    sorted_by_value = df.sort(\"median_house_value\").limit(3)\n",
    "    # Calculate the median/mean/standard deviation for the 2022 numbers\n",
    "    median = get_median(df)\n",
    "    mean = get_mean(df)\n",
    "    sd = get_sd(df)\n",
    "    print(\"Bottom 3 house price:\")\n",
    "    print(sorted_by_value)\n",
    "    print(\"median is: \" + str(median))\n",
    "    print(\"mean is: \" + str(mean))\n",
    "    print(\"standard deviation is: \" + str(sd))\n",
    "    plot(csv)\n",
    "\n",
    "\n",
    "if __name__ == \"__main__\":\n",
    "    f(\"california_housing_train.csv\")\n",
    "    "
   ]
  },
  {
   "cell_type": "code",
   "execution_count": null,
   "id": "incorporate-spain",
   "metadata": {},
   "outputs": [],
   "source": [
    "# In makefile, add: py.test --nbval my_notebook.ipynb"
   ]
  }
 ],
 "metadata": {
  "kernelspec": {
   "display_name": "Python 3",
   "language": "python",
   "name": "python3"
  },
  "language_info": {
   "codemirror_mode": {
    "name": "ipython",
    "version": 3
   },
   "file_extension": ".py",
   "mimetype": "text/x-python",
   "name": "python",
   "nbconvert_exporter": "python",
   "pygments_lexer": "ipython3",
   "version": "3.8.1"
  }
 },
 "nbformat": 4,
 "nbformat_minor": 5
}
